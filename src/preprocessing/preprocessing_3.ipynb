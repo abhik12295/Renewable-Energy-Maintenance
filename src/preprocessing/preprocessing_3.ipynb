{
 "cells": [
  {
   "cell_type": "code",
   "execution_count": 1,
   "id": "aa1116bd",
   "metadata": {},
   "outputs": [],
   "source": [
    "import os\n",
    "import pandas as pd\n",
    "import geopandas as gpd\n",
    "from scipy.spatial import KDTree\n",
    "from sklearn.preprocessing import StandardScaler\n",
    "import joblib\n",
    "\n",
    "main_dir = os.getcwd().rsplit(\"\\\\\", 2)[0]"
   ]
  },
  {
   "cell_type": "code",
   "execution_count": 2,
   "id": "eb9b2806",
   "metadata": {},
   "outputs": [],
   "source": [
    "osm_processed_df = pd.read_csv(f\"{main_dir}/data/processed/osm_site_processed.csv\")\n",
    "sentiment_df = pd.read_csv(f\"{main_dir}/data/processed/combined_sentiment_data.csv\")\n",
    "merged_df_read = pd.read_csv(f\"{main_dir}/data/processed/merged_data.csv\")"
   ]
  },
  {
   "cell_type": "code",
   "execution_count": 3,
   "id": "4c94d821",
   "metadata": {},
   "outputs": [
    {
     "name": "stdout",
     "output_type": "stream",
     "text": [
      "<class 'pandas.core.frame.DataFrame'>\n",
      "RangeIndex: 63204202 entries, 0 to 63204201\n",
      "Data columns (total 16 columns):\n",
      " #   Column              Dtype         \n",
      "---  ------              -----         \n",
      " 0   date                datetime64[ns]\n",
      " 1   energy_source       object        \n",
      " 2   power_MW            float64       \n",
      " 3   maintenance_status  int64         \n",
      " 4   respondent          object        \n",
      " 5   latitude            float64       \n",
      " 6   longitude           float64       \n",
      " 7   capacity_MW         float64       \n",
      " 8   year                int64         \n",
      " 9   plantcode           float64       \n",
      " 10  plantname           object        \n",
      " 11  nearest_station     object        \n",
      " 12  wind_speed          float64       \n",
      " 13  precipitation       float64       \n",
      " 14  temperature_avg     float64       \n",
      " 15  wind_volatility     float64       \n",
      "dtypes: datetime64[ns](1), float64(9), int64(2), object(4)\n",
      "memory usage: 7.5+ GB\n"
     ]
    }
   ],
   "source": [
    "merged_df_read['date'] = pd.to_datetime(merged_df_read['date'])\n",
    "merged_df_read.info()"
   ]
  },
  {
   "cell_type": "code",
   "execution_count": 4,
   "id": "72ff7a21",
   "metadata": {},
   "outputs": [
    {
     "name": "stdout",
     "output_type": "stream",
     "text": [
      "<class 'pandas.core.frame.DataFrame'>\n",
      "RangeIndex: 257 entries, 0 to 256\n",
      "Data columns (total 2 columns):\n",
      " #   Column           Non-Null Count  Dtype         \n",
      "---  ------           --------------  -----         \n",
      " 0   date             257 non-null    datetime64[ns]\n",
      " 1   sentiment_score  257 non-null    float64       \n",
      "dtypes: datetime64[ns](1), float64(1)\n",
      "memory usage: 4.1 KB\n"
     ]
    }
   ],
   "source": [
    "sentiment_df['date'] = pd.to_datetime(sentiment_df['date'])\n",
    "sentiment_df.info()"
   ]
  },
  {
   "cell_type": "code",
   "execution_count": 5,
   "id": "e2820c29",
   "metadata": {},
   "outputs": [],
   "source": [
    "# Merge with sentiment data\n",
    "#merged_df['date'] = pd.to_datetime(merged_df['date']).dt.date\n",
    "#sentiment_df['date'] = pd.to_datetime(sentiment_df['date']).dt.date\n",
    "merged_df = pd.merge(merged_df_read, sentiment_df, on='date', how='left')\n",
    "merged_df['sentiment_score'] = merged_df['sentiment_score'].fillna(0)"
   ]
  },
  {
   "cell_type": "code",
   "execution_count": 6,
   "id": "35cd7d5d",
   "metadata": {},
   "outputs": [],
   "source": [
    "# Merge with OSM processed data for site_density\n",
    "merged_df = pd.merge(merged_df, osm_processed_df[['latitude', 'longitude', 'site_density']], \n",
    "                     on=['latitude', 'longitude'], how='left')\n",
    "merged_df['site_density'] = merged_df['site_density'].fillna(0)"
   ]
  },
  {
   "cell_type": "code",
   "execution_count": 7,
   "id": "fb577a82",
   "metadata": {},
   "outputs": [],
   "source": [
    "# Feature engineering\n",
    "merged_df['output_efficiency'] = merged_df['power_MW'] / merged_df['capacity_MW'].replace(0, 1)"
   ]
  },
  {
   "cell_type": "code",
   "execution_count": 8,
   "id": "c5814ed4",
   "metadata": {},
   "outputs": [],
   "source": [
    "# Outlier removal\n",
    "Q1 = merged_df['power_MW'].quantile(0.25)\n",
    "Q3 = merged_df['power_MW'].quantile(0.75)\n",
    "IQR = Q3 - Q1\n",
    "merged_df = merged_df[(merged_df['power_MW'] >= Q1 - 1.5*IQR) & (merged_df['power_MW'] <= Q3 + 1.5*IQR)]"
   ]
  },
  {
   "cell_type": "code",
   "execution_count": 9,
   "id": "d9c3c7dc",
   "metadata": {},
   "outputs": [],
   "source": [
    "# Scale numerical features\n",
    "scaler = StandardScaler()\n",
    "numerical_cols = ['wind_speed', 'precipitation', 'temperature_avg', 'wind_volatility', 'power_MW', 'site_density', 'output_efficiency']\n",
    "merged_df[numerical_cols] = scaler.fit_transform(merged_df[numerical_cols].fillna(0))"
   ]
  },
  {
   "cell_type": "code",
   "execution_count": 10,
   "id": "1edd9770",
   "metadata": {},
   "outputs": [
    {
     "data": {
      "text/plain": [
       "['c:\\\\Users\\\\stuar\\\\Desktop\\\\Renewable Energy Maintenance/models/scaler.pkl']"
      ]
     },
     "execution_count": 10,
     "metadata": {},
     "output_type": "execute_result"
    }
   ],
   "source": [
    "joblib.dump(scaler, f\"{main_dir}/models/scaler.pkl\")"
   ]
  },
  {
   "cell_type": "code",
   "execution_count": 14,
   "id": "a947e433",
   "metadata": {},
   "outputs": [
    {
     "data": {
      "text/html": [
       "<div>\n",
       "<style scoped>\n",
       "    .dataframe tbody tr th:only-of-type {\n",
       "        vertical-align: middle;\n",
       "    }\n",
       "\n",
       "    .dataframe tbody tr th {\n",
       "        vertical-align: top;\n",
       "    }\n",
       "\n",
       "    .dataframe thead th {\n",
       "        text-align: right;\n",
       "    }\n",
       "</style>\n",
       "<table border=\"1\" class=\"dataframe\">\n",
       "  <thead>\n",
       "    <tr style=\"text-align: right;\">\n",
       "      <th></th>\n",
       "      <th>date</th>\n",
       "      <th>energy_source</th>\n",
       "      <th>power_MW</th>\n",
       "      <th>maintenance_status</th>\n",
       "      <th>respondent</th>\n",
       "      <th>latitude</th>\n",
       "      <th>longitude</th>\n",
       "      <th>capacity_MW</th>\n",
       "      <th>year</th>\n",
       "      <th>plantcode</th>\n",
       "      <th>plantname</th>\n",
       "      <th>nearest_station</th>\n",
       "      <th>wind_speed</th>\n",
       "      <th>precipitation</th>\n",
       "      <th>temperature_avg</th>\n",
       "      <th>wind_volatility</th>\n",
       "      <th>sentiment_score</th>\n",
       "      <th>site_density</th>\n",
       "      <th>output_efficiency</th>\n",
       "    </tr>\n",
       "  </thead>\n",
       "  <tbody>\n",
       "    <tr>\n",
       "      <th>0</th>\n",
       "      <td>2025-07-08 04:00:00</td>\n",
       "      <td>solar</td>\n",
       "      <td>-1.014257</td>\n",
       "      <td>1</td>\n",
       "      <td>TEX</td>\n",
       "      <td>31.140744</td>\n",
       "      <td>-98.229480</td>\n",
       "      <td>162956.921267</td>\n",
       "      <td>2025</td>\n",
       "      <td>NaN</td>\n",
       "      <td>NaN</td>\n",
       "      <td>USW00000229</td>\n",
       "      <td>-0.16362</td>\n",
       "      <td>-0.03929</td>\n",
       "      <td>-0.16376</td>\n",
       "      <td>-0.167691</td>\n",
       "      <td>0.0</td>\n",
       "      <td>0.0</td>\n",
       "      <td>-0.793451</td>\n",
       "    </tr>\n",
       "    <tr>\n",
       "      <th>1</th>\n",
       "      <td>2025-07-08 04:00:00</td>\n",
       "      <td>wind</td>\n",
       "      <td>0.749863</td>\n",
       "      <td>0</td>\n",
       "      <td>TEX</td>\n",
       "      <td>31.987395</td>\n",
       "      <td>-100.410991</td>\n",
       "      <td>192.115738</td>\n",
       "      <td>2025</td>\n",
       "      <td>NaN</td>\n",
       "      <td>NaN</td>\n",
       "      <td>USW00013962</td>\n",
       "      <td>-0.16362</td>\n",
       "      <td>-0.03929</td>\n",
       "      <td>-0.16376</td>\n",
       "      <td>-0.167691</td>\n",
       "      <td>0.0</td>\n",
       "      <td>0.0</td>\n",
       "      <td>0.893439</td>\n",
       "    </tr>\n",
       "    <tr>\n",
       "      <th>2</th>\n",
       "      <td>2025-07-08 03:00:00</td>\n",
       "      <td>solar</td>\n",
       "      <td>-1.014257</td>\n",
       "      <td>1</td>\n",
       "      <td>TEX</td>\n",
       "      <td>31.140744</td>\n",
       "      <td>-98.229480</td>\n",
       "      <td>162956.921267</td>\n",
       "      <td>2025</td>\n",
       "      <td>NaN</td>\n",
       "      <td>NaN</td>\n",
       "      <td>USW00000229</td>\n",
       "      <td>-0.16362</td>\n",
       "      <td>-0.03929</td>\n",
       "      <td>-0.16376</td>\n",
       "      <td>-0.167691</td>\n",
       "      <td>0.0</td>\n",
       "      <td>0.0</td>\n",
       "      <td>-0.793451</td>\n",
       "    </tr>\n",
       "    <tr>\n",
       "      <th>3</th>\n",
       "      <td>2025-07-08 03:00:00</td>\n",
       "      <td>wind</td>\n",
       "      <td>0.532338</td>\n",
       "      <td>0</td>\n",
       "      <td>TEX</td>\n",
       "      <td>31.987395</td>\n",
       "      <td>-100.410991</td>\n",
       "      <td>192.115738</td>\n",
       "      <td>2025</td>\n",
       "      <td>NaN</td>\n",
       "      <td>NaN</td>\n",
       "      <td>USW00013962</td>\n",
       "      <td>-0.16362</td>\n",
       "      <td>-0.03929</td>\n",
       "      <td>-0.16376</td>\n",
       "      <td>-0.167691</td>\n",
       "      <td>0.0</td>\n",
       "      <td>0.0</td>\n",
       "      <td>0.685437</td>\n",
       "    </tr>\n",
       "    <tr>\n",
       "      <th>4</th>\n",
       "      <td>2025-07-08 02:00:00</td>\n",
       "      <td>solar</td>\n",
       "      <td>-0.875295</td>\n",
       "      <td>0</td>\n",
       "      <td>TEX</td>\n",
       "      <td>31.140744</td>\n",
       "      <td>-98.229480</td>\n",
       "      <td>162956.921267</td>\n",
       "      <td>2025</td>\n",
       "      <td>NaN</td>\n",
       "      <td>NaN</td>\n",
       "      <td>USW00000229</td>\n",
       "      <td>-0.16362</td>\n",
       "      <td>-0.03929</td>\n",
       "      <td>-0.16376</td>\n",
       "      <td>-0.167691</td>\n",
       "      <td>0.0</td>\n",
       "      <td>0.0</td>\n",
       "      <td>-0.793294</td>\n",
       "    </tr>\n",
       "  </tbody>\n",
       "</table>\n",
       "</div>"
      ],
      "text/plain": [
       "                 date energy_source  power_MW  maintenance_status respondent  \\\n",
       "0 2025-07-08 04:00:00         solar -1.014257                   1        TEX   \n",
       "1 2025-07-08 04:00:00          wind  0.749863                   0        TEX   \n",
       "2 2025-07-08 03:00:00         solar -1.014257                   1        TEX   \n",
       "3 2025-07-08 03:00:00          wind  0.532338                   0        TEX   \n",
       "4 2025-07-08 02:00:00         solar -0.875295                   0        TEX   \n",
       "\n",
       "    latitude   longitude    capacity_MW  year  plantcode plantname  \\\n",
       "0  31.140744  -98.229480  162956.921267  2025        NaN       NaN   \n",
       "1  31.987395 -100.410991     192.115738  2025        NaN       NaN   \n",
       "2  31.140744  -98.229480  162956.921267  2025        NaN       NaN   \n",
       "3  31.987395 -100.410991     192.115738  2025        NaN       NaN   \n",
       "4  31.140744  -98.229480  162956.921267  2025        NaN       NaN   \n",
       "\n",
       "  nearest_station  wind_speed  precipitation  temperature_avg  \\\n",
       "0     USW00000229    -0.16362       -0.03929         -0.16376   \n",
       "1     USW00013962    -0.16362       -0.03929         -0.16376   \n",
       "2     USW00000229    -0.16362       -0.03929         -0.16376   \n",
       "3     USW00013962    -0.16362       -0.03929         -0.16376   \n",
       "4     USW00000229    -0.16362       -0.03929         -0.16376   \n",
       "\n",
       "   wind_volatility  sentiment_score  site_density  output_efficiency  \n",
       "0        -0.167691              0.0           0.0          -0.793451  \n",
       "1        -0.167691              0.0           0.0           0.893439  \n",
       "2        -0.167691              0.0           0.0          -0.793451  \n",
       "3        -0.167691              0.0           0.0           0.685437  \n",
       "4        -0.167691              0.0           0.0          -0.793294  "
      ]
     },
     "execution_count": 14,
     "metadata": {},
     "output_type": "execute_result"
    }
   ],
   "source": [
    "merged_df.head()"
   ]
  },
  {
   "cell_type": "code",
   "execution_count": 15,
   "id": "1cc64665",
   "metadata": {},
   "outputs": [],
   "source": [
    "cleaned_df = merged_df.copy()\n",
    "cleaned_df.to_csv(f\"{main_dir}/data/processed/cleaned_data_final.csv\", index=False)"
   ]
  }
 ],
 "metadata": {
  "kernelspec": {
   "display_name": "renv",
   "language": "python",
   "name": "python3"
  },
  "language_info": {
   "codemirror_mode": {
    "name": "ipython",
    "version": 3
   },
   "file_extension": ".py",
   "mimetype": "text/x-python",
   "name": "python",
   "nbconvert_exporter": "python",
   "pygments_lexer": "ipython3",
   "version": "3.10.0"
  }
 },
 "nbformat": 4,
 "nbformat_minor": 5
}
