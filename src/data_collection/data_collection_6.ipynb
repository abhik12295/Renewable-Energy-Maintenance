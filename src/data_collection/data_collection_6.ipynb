{
 "cells": [
  {
   "cell_type": "code",
   "execution_count": 16,
   "id": "0cc85cd7",
   "metadata": {},
   "outputs": [],
   "source": [
    "\n",
    "import pandas as pd\n",
    "import numpy as np\n",
    "from bs4 import BeautifulSoup\n",
    "import praw\n",
    "import os\n",
    "from pathlib import Path\n",
    "from vaderSentiment.vaderSentiment import SentimentIntensityAnalyzer\n",
    "from dotenv import load_dotenv\n"
   ]
  },
  {
   "cell_type": "code",
   "execution_count": 21,
   "id": "b39e4224",
   "metadata": {},
   "outputs": [
    {
     "data": {
      "text/plain": [
       "Submission(id='1lyw4xw')"
      ]
     },
     "execution_count": 21,
     "metadata": {},
     "output_type": "execute_result"
    }
   ],
   "source": [
    "load_dotenv()\n",
    "client_id = os.getenv(\"reddit_client_id\")\n",
    "client_secret = os.getenv(\"reddit_client_secret\")\n",
    "user_agent = os.getenv(\"reddit_user_agent\")\n",
    "reddit = praw.Reddit(\n",
    "    client_id=client_id,\n",
    "    client_secret=client_secret,\n",
    "    user_agent=user_agent,\n",
    "    username =\"No_Appearance_1995\",\n",
    "    password=\"Gmail@123\"  # Replace with your Reddit password\n",
    "\n",
    ")\n",
    "reddit.subreddit(\"test\").submit(\"Test Submission\", url=\"https://reddit.com\")"
   ]
  },
  {
   "cell_type": "code",
   "execution_count": null,
   "id": "dee59786",
   "metadata": {},
   "outputs": [],
   "source": []
  },
  {
   "cell_type": "code",
   "execution_count": null,
   "id": "01c26bcc",
   "metadata": {},
   "outputs": [],
   "source": []
  },
  {
   "cell_type": "code",
   "execution_count": null,
   "id": "840eab0f",
   "metadata": {},
   "outputs": [],
   "source": []
  }
 ],
 "metadata": {
  "kernelspec": {
   "display_name": "renv",
   "language": "python",
   "name": "python3"
  },
  "language_info": {
   "codemirror_mode": {
    "name": "ipython",
    "version": 3
   },
   "file_extension": ".py",
   "mimetype": "text/x-python",
   "name": "python",
   "nbconvert_exporter": "python",
   "pygments_lexer": "ipython3",
   "version": "3.10.0"
  }
 },
 "nbformat": 4,
 "nbformat_minor": 5
}
