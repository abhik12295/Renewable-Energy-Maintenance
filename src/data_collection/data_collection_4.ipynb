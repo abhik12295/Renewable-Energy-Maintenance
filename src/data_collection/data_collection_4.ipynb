{
 "cells": [
  {
   "cell_type": "code",
   "execution_count": 1,
   "id": "dad59307",
   "metadata": {},
   "outputs": [],
   "source": [
    "# get the osm energy data for Texas\n",
    "import osmnx as ox\n",
    "import geopandas as gpd\n",
    "import pandas as pd\n",
    "import requests\n",
    "from pathlib import Path"
   ]
  },
  {
   "cell_type": "code",
   "execution_count": 8,
   "id": "b5b643dd",
   "metadata": {},
   "outputs": [
    {
     "name": "stderr",
     "output_type": "stream",
     "text": [
      "c:\\Users\\stuar\\Desktop\\Renewable Energy Maintenance\\renv\\lib\\site-packages\\osmnx\\_overpass.py:267: UserWarning: This area is 383 times your configured Overpass max query area size. It will automatically be divided up into multiple sub-queries accordingly. This may take a long time.\n",
      "  multi_poly_proj = utils_geo._consolidate_subdivide_geometry(poly_proj)\n"
     ]
    }
   ],
   "source": [
    "\n",
    "place = \"Texas, USA\"\n",
    "tags = {\n",
    "    \"power\": \"generator\",\n",
    "    \"generator:source\": [\"wind\", \"solar\"]\n",
    "}\n",
    "\n",
    "# Fetch geometries (points, lines, polygons) that match these tags\n",
    "gdf = ox.features_from_place(place, tags)\n",
    "\n",
    "# Filter and rename columns for clarity\n",
    "gdf = gdf[[\n",
    "    'power',\n",
    "    'generator:source',\n",
    "    'generator:method',\n",
    "    'generator:output:electricity',\n",
    "    'name',\n",
    "    'geometry'\n",
    "]]\n",
    "\n",
    "# Reset index\n",
    "gdf = gdf.reset_index(drop=True)\n",
    "\n",
    "\n"
   ]
  },
  {
   "cell_type": "code",
   "execution_count": 9,
   "id": "e7caf336",
   "metadata": {},
   "outputs": [
    {
     "name": "stdout",
     "output_type": "stream",
     "text": [
      "       power generator:source generator:method generator:output:electricity  \\\n",
      "0  generator             wind     wind_turbine                       1.5 MW   \n",
      "1  generator             wind     wind_turbine                       1.5 MW   \n",
      "2  generator             wind     wind_turbine                       1.5 MW   \n",
      "3  generator             wind     wind_turbine                       1.5 MW   \n",
      "4  generator             wind     wind_turbine                       1.5 MW   \n",
      "\n",
      "  name                    geometry  \n",
      "0  NaN  POINT (-99.98445 32.33876)  \n",
      "1  NaN  POINT (-99.98613 32.33276)  \n",
      "2  NaN  POINT (-99.98842 32.33274)  \n",
      "3  NaN  POINT (-99.99057 32.33279)  \n",
      "4  NaN  POINT (-99.99259 32.33332)  \n"
     ]
    }
   ],
   "source": [
    "# Convert to a regular DataFrame without geometry (optional)\n",
    "df = pd.DataFrame(gdf)\n",
    "\n",
    "# Show the result\n",
    "print(df.head())"
   ]
  },
  {
   "cell_type": "code",
   "execution_count": 10,
   "id": "0b9bdd4f",
   "metadata": {},
   "outputs": [
    {
     "name": "stdout",
     "output_type": "stream",
     "text": [
      "<class 'pandas.core.frame.DataFrame'>\n",
      "RangeIndex: 60982 entries, 0 to 60981\n",
      "Data columns (total 6 columns):\n",
      " #   Column                        Non-Null Count  Dtype   \n",
      "---  ------                        --------------  -----   \n",
      " 0   power                         60737 non-null  object  \n",
      " 1   generator:source              60907 non-null  object  \n",
      " 2   generator:method              58762 non-null  object  \n",
      " 3   generator:output:electricity  57679 non-null  object  \n",
      " 4   name                          827 non-null    object  \n",
      " 5   geometry                      60982 non-null  geometry\n",
      "dtypes: geometry(1), object(5)\n",
      "memory usage: 2.8+ MB\n"
     ]
    }
   ],
   "source": [
    "df.info()"
   ]
  },
  {
   "cell_type": "code",
   "execution_count": 11,
   "id": "c602e93a",
   "metadata": {},
   "outputs": [],
   "source": [
    "df_copy = df.copy()"
   ]
  },
  {
   "cell_type": "code",
   "execution_count": 12,
   "id": "f9d57b38",
   "metadata": {},
   "outputs": [],
   "source": [
    "df_copy.drop_duplicates(inplace=True)"
   ]
  },
  {
   "cell_type": "code",
   "execution_count": 13,
   "id": "386a8747",
   "metadata": {},
   "outputs": [
    {
     "name": "stdout",
     "output_type": "stream",
     "text": [
      "<class 'pandas.core.frame.DataFrame'>\n",
      "Index: 60858 entries, 0 to 60981\n",
      "Data columns (total 6 columns):\n",
      " #   Column                        Non-Null Count  Dtype   \n",
      "---  ------                        --------------  -----   \n",
      " 0   power                         60613 non-null  object  \n",
      " 1   generator:source              60783 non-null  object  \n",
      " 2   generator:method              58642 non-null  object  \n",
      " 3   generator:output:electricity  57559 non-null  object  \n",
      " 4   name                          827 non-null    object  \n",
      " 5   geometry                      60858 non-null  geometry\n",
      "dtypes: geometry(1), object(5)\n",
      "memory usage: 3.3+ MB\n"
     ]
    }
   ],
   "source": [
    "df_copy.info()"
   ]
  },
  {
   "cell_type": "code",
   "execution_count": 17,
   "id": "09715798",
   "metadata": {},
   "outputs": [
    {
     "data": {
      "text/html": [
       "<div>\n",
       "<style scoped>\n",
       "    .dataframe tbody tr th:only-of-type {\n",
       "        vertical-align: middle;\n",
       "    }\n",
       "\n",
       "    .dataframe tbody tr th {\n",
       "        vertical-align: top;\n",
       "    }\n",
       "\n",
       "    .dataframe thead th {\n",
       "        text-align: right;\n",
       "    }\n",
       "</style>\n",
       "<table border=\"1\" class=\"dataframe\">\n",
       "  <thead>\n",
       "    <tr style=\"text-align: right;\">\n",
       "      <th></th>\n",
       "      <th>power</th>\n",
       "      <th>generator:source</th>\n",
       "      <th>generator:method</th>\n",
       "      <th>generator:output:electricity</th>\n",
       "      <th>name</th>\n",
       "      <th>geometry</th>\n",
       "    </tr>\n",
       "  </thead>\n",
       "  <tbody>\n",
       "    <tr>\n",
       "      <th>0</th>\n",
       "      <td>generator</td>\n",
       "      <td>wind</td>\n",
       "      <td>wind_turbine</td>\n",
       "      <td>1.5 MW</td>\n",
       "      <td>NaN</td>\n",
       "      <td>POINT (-99.98445 32.33876)</td>\n",
       "    </tr>\n",
       "  </tbody>\n",
       "</table>\n",
       "</div>"
      ],
      "text/plain": [
       "       power generator:source generator:method generator:output:electricity  \\\n",
       "0  generator             wind     wind_turbine                       1.5 MW   \n",
       "\n",
       "  name                    geometry  \n",
       "0  NaN  POINT (-99.98445 32.33876)  "
      ]
     },
     "execution_count": 17,
     "metadata": {},
     "output_type": "execute_result"
    }
   ],
   "source": [
    "df_copy.head(1)"
   ]
  },
  {
   "cell_type": "code",
   "execution_count": 18,
   "id": "85426db2",
   "metadata": {},
   "outputs": [
    {
     "data": {
      "text/plain": [
       "array([nan, 'Plant X unit #1', 'Plant X unit #2', 'Plant X unit #3',\n",
       "       'Plant X unit #4', 'zonderrr', 'Falcon Power Plant Unit 1',\n",
       "       'Falcon Power Plant Unit 2', 'Falcon Power Plant Unit 3',\n",
       "       'Starcke Dam Unit 2', 'Starcke Dam Unit 1', 'Wirtz Dam Unit 2',\n",
       "       'Wirtz Dam Unit 1', 'Buchanan Dam Unit 1', 'Buchanan Dam Unit 2',\n",
       "       'Buchanan Dam Unit 3', 'Inks Dam', 'Formosa Unit 10',\n",
       "       'Formosa Unit 7', 'Formosa Unit 6',\n",
       "       'Victoria Power Station Unit 5', 'Tower 118',\n",
       "       'Peyton Creek Wind Farm', 'Austin Generator Service', 'Tower 139',\n",
       "       'Tower 133', 'Tower 104', 'Tower 109', 'Tower 117', 'Tower 140',\n",
       "       'Tower 135', 'Tower 163', 'Tower 114', 'Tower 129', 'Tower 152',\n",
       "       'Tower 157', 'Tower 160', 'Tower 148', 'Tower 106', 'Tower 103',\n",
       "       'Tower 113', 'Tower 158', 'Tower 141', 'Tower 124', 'Tower 136',\n",
       "       'Tower 154', 'Tower 125', 'Tower 105', 'Tower 130', 'Tower 147',\n",
       "       'Tower 132', 'Tower 155', 'Tower 162', 'Tower 149', 'Tower 119',\n",
       "       'Tower 146', 'Tower 102', 'Tower 112', 'Tower 123', 'Tower 110',\n",
       "       'Tower 151', 'Tower 134', 'Tower 142', 'Tower 128', 'Tower 159',\n",
       "       'Tower 116', 'Tower 153', 'Tower 122', 'Tower 101', 'Tower 126',\n",
       "       'Tower 156', 'Tower 127', 'Tower 145', 'Tower 161', 'Tower 150',\n",
       "       'Tower 121', 'Tower 137', 'Tower 131', 'Tower 144', 'Tower 111',\n",
       "       'Tower 143', 'Limestone Wind', 'Hubbbard Wind 1',\n",
       "       'Sam Rayburn Unit 7', 'Sam Rayburn Unit 8', 'Sam Rayburn Unit 9',\n",
       "       'Sam Rayburn Unit 2', 'Sam Rayburn Unit 1', 'Sam Rayburn Unit 10',\n",
       "       'Reloj Del Sol O&M', 'White Mesa', 'El Sauz Wind Project',\n",
       "       'Castle Gap Wind Project', 'Young Wind', 'W. A. Parish Unit 7',\n",
       "       'W. A. Parish Unit 6', 'Bazos Valley Unit 1',\n",
       "       'Comanche Peak Unit 2', 'South Texas Project Unit 1',\n",
       "       'South Texas Project Unit 2', 'Houston Methodist - Central Plant',\n",
       "       'Fayette Unit 2', 'Fayette Unit 3', 'Dansby Unit 1',\n",
       "       'Dansby Unit 2', 'Limestone Unit 1', 'Oak Grove Unit 1',\n",
       "       'Hal C. Weaver Power Plant', 'Hal C. Weaver Power Plant Annex',\n",
       "       'Hal C. Weaver Power Plant Expansion', 'Thermal Energy Plant',\n",
       "       'Milton B. Lee Peaking Unit 1', 'Milton B. Lee Peaking Unit 2',\n",
       "       'Milton B. Lee Peaking Unit 3', 'Milton B. Lee Peaking Unit 4',\n",
       "       'Arthur Von Rosenberg Unit 1', 'Arthur Von Rosenberg Unit 2',\n",
       "       'Arthur Von Rosenberg Unit 3', 'Braunig Unit 1', 'Braunig Unit 2',\n",
       "       'Braunig Unit 3', 'Milton B Lee (East) Peaking Unit 5',\n",
       "       'Milton B Lee (East) Peaking Unit 6',\n",
       "       'Milton B Lee (East) Peaking Unit 7',\n",
       "       'Milton B Lee (East) Peaking Unit 8', 'Rio Nogales Unit 1',\n",
       "       'Rio Nogales Unit 2', 'Rio Nogales Unit 3', 'Rio Nogales Unit 4',\n",
       "       'J. K. Spruce Unit 1', 'J. K. Spruce Unit 2', 'J. T. Deely Unit 1',\n",
       "       'J. T. Deely Unit 2', 'O. W. Sommers Unit 1',\n",
       "       'O. W. Sommers Unit 2', 'Aspen Power Plant',\n",
       "       'Laredo Power Plant Unit 5', 'Laredo Power Plant Unit 4',\n",
       "       'San Miguel Unit 1', 'Bazos Valley Unit 2', 'Bazos Valley Unit 3',\n",
       "       'W. A. Parish Petra Nova Unit', 'W. A. Parish Unit 5',\n",
       "       'W. A. Parish Unit 8', 'W. A. Parish Unit 4',\n",
       "       'W. A. Parish Unit 3', 'W. A. Parish Unit 2',\n",
       "       'W. A. Parish Unit 1', 'Comanche Peak Unit 1',\n",
       "       'Permian Basin Combustion Turbine 5',\n",
       "       'Permian Basin Combustion Turbine 4',\n",
       "       'Permian Basin Combustion Turbine 3',\n",
       "       'Permian Basin Combustion Turbine 2',\n",
       "       'Permian Basin Combustion Turbine 1', 'Sandy Creek Unit 1',\n",
       "       'Sand Hill Unit 1', 'Sand Hill Unit 2', 'Sand Hill Unit 3',\n",
       "       'Sand Hill Unit 4', 'Sand Hill Unit 7', 'Sand Hill Unit 6',\n",
       "       'Sand Hill Unit 5C', 'Sand Hill Unit 5A', 'Harrington Unit 3',\n",
       "       'Harrington Unit 1', 'Harrington Unit 2', 'Nichols Unit 2',\n",
       "       'Nichols Unit 1', 'Nichols Unit 3', 'Cooke Gas Turbine 3',\n",
       "       'Cooke Gas Turbine 2', 'Massengale Unit 1', 'Massengale Unit 3',\n",
       "       'Massengale Unit 4', 'Massengale Unit 5', 'Massengale Unit 6',\n",
       "       'Massengale Unit 7', 'Massengale Unit 8', 'Brandon Unit 1',\n",
       "       'Jones Unit 4', 'Jones Unit 3', 'Jones Unit 2', 'Jones Unit 1',\n",
       "       'Elk Station Unit 1', 'Elk Station Unit 2', 'Elk Station Unit 3',\n",
       "       'Twin Oaks Unit 2', 'Twin Oaks Unit 1', 'Dansby Unit 3',\n",
       "       'Sam Gideon Unit 1', 'Sam Gideon Unit 3', 'Sam Gideon Unit 2',\n",
       "       'Lost Pines Unit 2', 'Lost Pines Unit 1', 'Lost Pines Unit 3',\n",
       "       'Fayette Unit 1', 'Oak Grove Unit 2', 'Coleto Creek Unit 1',\n",
       "       'Formosa Unit 8', 'Formosa Unit 9', 'Formosa Unit 5',\n",
       "       'Formosa Unit 4', 'Formosa Unit 3', 'Formosa Unit 2',\n",
       "       'Formosa Unit 1', 'Formosa Unit 12', 'Formosa Unit 11',\n",
       "       'Victoria Power Station Unit 6', 'Lewis Creek Unit 2',\n",
       "       'Lewis Creek Unit 1', 'Limestone Unit 2'], dtype=object)"
      ]
     },
     "execution_count": 18,
     "metadata": {},
     "output_type": "execute_result"
    }
   ],
   "source": [
    "df_copy['name'].unique()"
   ]
  },
  {
   "cell_type": "code",
   "execution_count": 19,
   "id": "ee8de48b",
   "metadata": {},
   "outputs": [
    {
     "data": {
      "text/plain": [
       "array(['wind', 'coal', 'gas', nan, 'hydro', 'solar', 'nuclear', 'steam',\n",
       "       'oil', 'biomass', 'diesel', 'battery'], dtype=object)"
      ]
     },
     "execution_count": 19,
     "metadata": {},
     "output_type": "execute_result"
    }
   ],
   "source": [
    "df_copy['generator:source'].unique()"
   ]
  },
  {
   "cell_type": "code",
   "execution_count": 20,
   "id": "ef773064",
   "metadata": {},
   "outputs": [],
   "source": [
    "# drop value for generator:source that is not wind or solar\n",
    "df_copy = df_copy[df_copy['generator:source'].isin(['wind', 'solar'])]"
   ]
  },
  {
   "cell_type": "code",
   "execution_count": 26,
   "id": "a933bb93",
   "metadata": {},
   "outputs": [
    {
     "data": {
      "text/plain": [
       "array(['wind', 'solar'], dtype=object)"
      ]
     },
     "execution_count": 26,
     "metadata": {},
     "output_type": "execute_result"
    }
   ],
   "source": [
    "df_copy['generator:source'].unique()"
   ]
  },
  {
   "cell_type": "code",
   "execution_count": 25,
   "id": "65451755",
   "metadata": {},
   "outputs": [
    {
     "data": {
      "image/png": "[encoded data removed]",
      "text/plain": [
       "<Figure size 640x480 with 1 Axes>"
      ]
     },
     "metadata": {},
     "output_type": "display_data"
    }
   ],
   "source": [
    "import matplotlib.pyplot as plt\n",
    "\n",
    "df_copy['generator:source'].value_counts().plot(kind='bar', title='Generator Source Distribution')\n",
    "plt.xlabel('Generator Source')\n",
    "plt.ylabel('Count')\n",
    "plt.show()"
   ]
  },
  {
   "cell_type": "code",
   "execution_count": 27,
   "id": "0fbe02de",
   "metadata": {},
   "outputs": [
    {
     "data": {
      "text/html": [
       "<div>\n",
       "<style scoped>\n",
       "    .dataframe tbody tr th:only-of-type {\n",
       "        vertical-align: middle;\n",
       "    }\n",
       "\n",
       "    .dataframe tbody tr th {\n",
       "        vertical-align: top;\n",
       "    }\n",
       "\n",
       "    .dataframe thead th {\n",
       "        text-align: right;\n",
       "    }\n",
       "</style>\n",
       "<table border=\"1\" class=\"dataframe\">\n",
       "  <thead>\n",
       "    <tr style=\"text-align: right;\">\n",
       "      <th></th>\n",
       "      <th>power</th>\n",
       "      <th>generator:source</th>\n",
       "      <th>generator:method</th>\n",
       "      <th>generator:output:electricity</th>\n",
       "      <th>name</th>\n",
       "      <th>geometry</th>\n",
       "    </tr>\n",
       "  </thead>\n",
       "  <tbody>\n",
       "    <tr>\n",
       "      <th>0</th>\n",
       "      <td>generator</td>\n",
       "      <td>wind</td>\n",
       "      <td>wind_turbine</td>\n",
       "      <td>1.5 MW</td>\n",
       "      <td>NaN</td>\n",
       "      <td>POINT (-99.98445 32.33876)</td>\n",
       "    </tr>\n",
       "    <tr>\n",
       "      <th>1</th>\n",
       "      <td>generator</td>\n",
       "      <td>wind</td>\n",
       "      <td>wind_turbine</td>\n",
       "      <td>1.5 MW</td>\n",
       "      <td>NaN</td>\n",
       "      <td>POINT (-99.98613 32.33276)</td>\n",
       "    </tr>\n",
       "    <tr>\n",
       "      <th>2</th>\n",
       "      <td>generator</td>\n",
       "      <td>wind</td>\n",
       "      <td>wind_turbine</td>\n",
       "      <td>1.5 MW</td>\n",
       "      <td>NaN</td>\n",
       "      <td>POINT (-99.98842 32.33274)</td>\n",
       "    </tr>\n",
       "  </tbody>\n",
       "</table>\n",
       "</div>"
      ],
      "text/plain": [
       "       power generator:source generator:method generator:output:electricity  \\\n",
       "0  generator             wind     wind_turbine                       1.5 MW   \n",
       "1  generator             wind     wind_turbine                       1.5 MW   \n",
       "2  generator             wind     wind_turbine                       1.5 MW   \n",
       "\n",
       "  name                    geometry  \n",
       "0  NaN  POINT (-99.98445 32.33876)  \n",
       "1  NaN  POINT (-99.98613 32.33276)  \n",
       "2  NaN  POINT (-99.98842 32.33274)  "
      ]
     },
     "execution_count": 27,
     "metadata": {},
     "output_type": "execute_result"
    }
   ],
   "source": [
    "df_copy.head(3)"
   ]
  },
  {
   "cell_type": "code",
   "execution_count": 37,
   "id": "6e9927b3",
   "metadata": {},
   "outputs": [],
   "source": [
    "df_copy_drop = df_copy.copy()"
   ]
  },
  {
   "cell_type": "code",
   "execution_count": 39,
   "id": "4b4c2809",
   "metadata": {},
   "outputs": [],
   "source": [
    "# drop rows where name is nan\n",
    "df_copy_drop.dropna(subset=['name'], inplace=True)"
   ]
  },
  {
   "cell_type": "code",
   "execution_count": 40,
   "id": "0fd59b99",
   "metadata": {},
   "outputs": [
    {
     "name": "stdout",
     "output_type": "stream",
     "text": [
      "<class 'pandas.core.frame.DataFrame'>\n",
      "Index: 683 entries, 6282 to 21810\n",
      "Data columns (total 6 columns):\n",
      " #   Column                        Non-Null Count  Dtype   \n",
      "---  ------                        --------------  -----   \n",
      " 0   power                         683 non-null    object  \n",
      " 1   generator:source              683 non-null    object  \n",
      " 2   generator:method              683 non-null    object  \n",
      " 3   generator:output:electricity  574 non-null    object  \n",
      " 4   name                          683 non-null    object  \n",
      " 5   geometry                      683 non-null    geometry\n",
      "dtypes: geometry(1), object(5)\n",
      "memory usage: 37.4+ KB\n"
     ]
    }
   ],
   "source": [
    "df_copy_drop.info()"
   ]
  },
  {
   "cell_type": "code",
   "execution_count": 41,
   "id": "282d2947",
   "metadata": {},
   "outputs": [
    {
     "data": {
      "text/html": [
       "<div>\n",
       "<style scoped>\n",
       "    .dataframe tbody tr th:only-of-type {\n",
       "        vertical-align: middle;\n",
       "    }\n",
       "\n",
       "    .dataframe tbody tr th {\n",
       "        vertical-align: top;\n",
       "    }\n",
       "\n",
       "    .dataframe thead th {\n",
       "        text-align: right;\n",
       "    }\n",
       "</style>\n",
       "<table border=\"1\" class=\"dataframe\">\n",
       "  <thead>\n",
       "    <tr style=\"text-align: right;\">\n",
       "      <th></th>\n",
       "      <th>power</th>\n",
       "      <th>generator:source</th>\n",
       "      <th>generator:method</th>\n",
       "      <th>generator:output:electricity</th>\n",
       "      <th>name</th>\n",
       "      <th>geometry</th>\n",
       "    </tr>\n",
       "  </thead>\n",
       "  <tbody>\n",
       "    <tr>\n",
       "      <th>6282</th>\n",
       "      <td>generator</td>\n",
       "      <td>wind</td>\n",
       "      <td>wind_turbine</td>\n",
       "      <td>2.3 MW</td>\n",
       "      <td>zonderrr</td>\n",
       "      <td>POINT (-102.16526 35.24556)</td>\n",
       "    </tr>\n",
       "    <tr>\n",
       "      <th>15847</th>\n",
       "      <td>generator</td>\n",
       "      <td>wind</td>\n",
       "      <td>wind_turbine</td>\n",
       "      <td>NaN</td>\n",
       "      <td>Tower 118</td>\n",
       "      <td>POINT (-99.28338 27.15668)</td>\n",
       "    </tr>\n",
       "    <tr>\n",
       "      <th>16105</th>\n",
       "      <td>generator</td>\n",
       "      <td>wind</td>\n",
       "      <td>wind_turbine</td>\n",
       "      <td>3.15 MW</td>\n",
       "      <td>Peyton Creek Wind Farm</td>\n",
       "      <td>POINT (-95.89059 28.87284)</td>\n",
       "    </tr>\n",
       "    <tr>\n",
       "      <th>16106</th>\n",
       "      <td>generator</td>\n",
       "      <td>wind</td>\n",
       "      <td>wind_turbine</td>\n",
       "      <td>3.15 MW</td>\n",
       "      <td>Peyton Creek Wind Farm</td>\n",
       "      <td>POINT (-95.87789 28.87664)</td>\n",
       "    </tr>\n",
       "  </tbody>\n",
       "</table>\n",
       "</div>"
      ],
      "text/plain": [
       "           power generator:source generator:method  \\\n",
       "6282   generator             wind     wind_turbine   \n",
       "15847  generator             wind     wind_turbine   \n",
       "16105  generator             wind     wind_turbine   \n",
       "16106  generator             wind     wind_turbine   \n",
       "\n",
       "      generator:output:electricity                    name  \\\n",
       "6282                        2.3 MW                zonderrr   \n",
       "15847                          NaN               Tower 118   \n",
       "16105                      3.15 MW  Peyton Creek Wind Farm   \n",
       "16106                      3.15 MW  Peyton Creek Wind Farm   \n",
       "\n",
       "                          geometry  \n",
       "6282   POINT (-102.16526 35.24556)  \n",
       "15847   POINT (-99.28338 27.15668)  \n",
       "16105   POINT (-95.89059 28.87284)  \n",
       "16106   POINT (-95.87789 28.87664)  "
      ]
     },
     "execution_count": 41,
     "metadata": {},
     "output_type": "execute_result"
    }
   ],
   "source": [
    "df_copy_drop.head(4)"
   ]
  }
 ],
 "metadata": {
  "kernelspec": {
   "display_name": "renv",
   "language": "python",
   "name": "python3"
  },
  "language_info": {
   "codemirror_mode": {
    "name": "ipython",
    "version": 3
   },
   "file_extension": ".py",
   "mimetype": "text/x-python",
   "name": "python",
   "nbconvert_exporter": "python",
   "pygments_lexer": "ipython3",
   "version": "3.10.0"
  }
 },
 "nbformat": 4,
 "nbformat_minor": 5
}
