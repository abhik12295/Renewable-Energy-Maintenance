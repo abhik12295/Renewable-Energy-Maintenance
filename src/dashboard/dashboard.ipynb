{
 "cells": [
  {
   "cell_type": "code",
   "execution_count": 1,
   "id": "ddf8c408",
   "metadata": {},
   "outputs": [
    {
     "name": "stderr",
     "output_type": "stream",
     "text": [
      "2025-08-28 23:17:32.619 Thread 'MainThread': missing ScriptRunContext! This warning can be ignored when running in bare mode.\n"
     ]
    }
   ],
   "source": [
    "\n",
    "import streamlit as st\n",
    "import pandas as pd\n",
    "import folium\n",
    "from streamlit_folium import folium_static\n",
    "import joblib\n",
    "import os\n",
    "main_dir = os.getcwd().rsplit(\"\\\\\", 2)[0]"
   ]
  },
  {
   "cell_type": "code",
   "execution_count": 2,
   "id": "59aa782f",
   "metadata": {},
   "outputs": [],
   "source": [
    "# Load data and models\n",
    "df = pd.read_csv(f\"{main_dir}/data/processed/cleaned_data_final.csv\")"
   ]
  },
  {
   "cell_type": "code",
   "execution_count": null,
   "id": "10383191",
   "metadata": {},
   "outputs": [],
   "source": [
    "df['date'] = pd.to_datetime(df['date'], format='mixed')\n",
    "prophet_model = joblib.load(f\"{main_dir}/models/prophet_wind.pkl\")"
   ]
  },
  {
   "cell_type": "code",
   "execution_count": null,
   "id": "3d1dca6f",
   "metadata": {},
   "outputs": [],
   "source": [
    "# Streamlit app\n",
    "st.title(\"Renewable Energy Predictive Maintenance Dashboard\")\n",
    "energy_source = st.selectbox(\"Select Energy Source\", ['wind', 'solar'])\n",
    "date_range = st.date_input(\"Select Date Range\", [df['date'].min(), df['date'].max()])\n",
    "# Filter data\n",
    "filtered_df = df[(df['energy_source'] == energy_source) & \n",
    "                 (df['date'].dt.date >= date_range[0]) & \n",
    "                 (df['date'].dt.date <= date_range[1])]\n",
    "# Time series plot\n",
    "st.line_chart(filtered_df.set_index('date')['power_MW'])\n"
   ]
  },
  {
   "cell_type": "code",
   "execution_count": null,
   "id": "bcf503b9",
   "metadata": {},
   "outputs": [],
   "source": [
    "# Geospatial map\n",
    "m = folium.Map(location=[31.9686, -99.9018], zoom_start=6)\n",
    "for idx, row in filtered_df.drop_duplicates(['latitude', 'longitude']).iterrows():\n",
    "    folium.CircleMarker(\n",
    "        [row['latitude'], row['longitude']],\n",
    "        radius=row['output_efficiency'] * 10,\n",
    "        popup=f\"{row['plantname']} - {row['energy_source']}\",\n",
    "        color='blue' if row['energy_source'] == 'wind' else 'orange',\n",
    "        fill=True\n",
    "    ).add_to(m)\n",
    "folium_static(m)"
   ]
  }
 ],
 "metadata": {
  "kernelspec": {
   "display_name": "renv",
   "language": "python",
   "name": "python3"
  },
  "language_info": {
   "codemirror_mode": {
    "name": "ipython",
    "version": 3
   },
   "file_extension": ".py",
   "mimetype": "text/x-python",
   "name": "python",
   "nbconvert_exporter": "python",
   "pygments_lexer": "ipython3",
   "version": "3.10.0"
  }
 },
 "nbformat": 4,
 "nbformat_minor": 5
}
