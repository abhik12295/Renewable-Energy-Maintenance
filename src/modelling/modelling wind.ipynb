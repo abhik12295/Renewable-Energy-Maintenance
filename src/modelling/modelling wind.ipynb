{
 "cells": [
  {
   "cell_type": "code",
   "execution_count": 1,
   "id": "d61ccae4",
   "metadata": {},
   "outputs": [
    {
     "name": "stderr",
     "output_type": "stream",
     "text": [
      "c:\\Users\\stuar\\Desktop\\Renewable Energy Maintenance\\renv\\lib\\site-packages\\tqdm\\auto.py:21: TqdmWarning: IProgress not found. Please update jupyter and ipywidgets. See https://ipywidgets.readthedocs.io/en/stable/user_install.html\n",
      "  from .autonotebook import tqdm as notebook_tqdm\n",
      "Importing plotly failed. Interactive plots will not work.\n"
     ]
    }
   ],
   "source": [
    "\n",
    "import pandas as pd\n",
    "import numpy as np\n",
    "from sklearn.ensemble import RandomForestClassifier, IsolationForest\n",
    "from sklearn.metrics import classification_report\n",
    "from prophet import Prophet\n",
    "from tensorflow.keras.models import Sequential\n",
    "from tensorflow.keras.layers import LSTM, Dense\n",
    "import joblib\n",
    "# Load data\n",
    "import os\n",
    "main_dir = os.getcwd().rsplit(\"\\\\\", 2)[0]\n"
   ]
  },
  {
   "cell_type": "code",
   "execution_count": 2,
   "id": "ebc9dc80",
   "metadata": {},
   "outputs": [],
   "source": [
    "df = pd.read_csv(f\"{main_dir}/data/processed/cleaned_data_final.csv\")"
   ]
  },
  {
   "cell_type": "code",
   "execution_count": 3,
   "id": "b053741a",
   "metadata": {},
   "outputs": [
    {
     "name": "stdout",
     "output_type": "stream",
     "text": [
      "<class 'pandas.core.frame.DataFrame'>\n",
      "RangeIndex: 63204202 entries, 0 to 63204201\n",
      "Data columns (total 19 columns):\n",
      " #   Column              Dtype  \n",
      "---  ------              -----  \n",
      " 0   date                object \n",
      " 1   energy_source       object \n",
      " 2   power_MW            float64\n",
      " 3   maintenance_status  int64  \n",
      " 4   respondent          object \n",
      " 5   latitude            float64\n",
      " 6   longitude           float64\n",
      " 7   capacity_MW         float64\n",
      " 8   year                int64  \n",
      " 9   plantcode           float64\n",
      " 10  plantname           object \n",
      " 11  nearest_station     object \n",
      " 12  wind_speed          float64\n",
      " 13  precipitation       float64\n",
      " 14  temperature_avg     float64\n",
      " 15  wind_volatility     float64\n",
      " 16  sentiment_score     float64\n",
      " 17  site_density        float64\n",
      " 18  output_efficiency   float64\n",
      "dtypes: float64(12), int64(2), object(5)\n",
      "memory usage: 8.9+ GB\n"
     ]
    }
   ],
   "source": [
    "df.info()"
   ]
  },
  {
   "cell_type": "code",
   "execution_count": 4,
   "id": "18782e8b",
   "metadata": {},
   "outputs": [],
   "source": [
    "df['date'] = pd.to_datetime(df['date'], format='mixed')"
   ]
  },
  {
   "cell_type": "code",
   "execution_count": null,
   "id": "87c3e4d6",
   "metadata": {},
   "outputs": [],
   "source": [
    "# # Prophet for forecasting\n",
    "# prophet_df = df[df['energy_source'] == 'wind'][['date', 'power_MW', 'wind_speed', 'precipitation', 'temperature_avg', 'wind_volatility']].rename(columns={'date': 'ds', 'power_MW': 'y'})\n",
    "# prophet_model = Prophet()\n",
    "# for col in ['wind_speed', 'precipitation', 'temperature_avg', 'wind_volatility']:\n",
    "#     prophet_model.add_regressor(col)\n",
    "# prophet_model.fit(prophet_df)\n",
    "# joblib.dump(prophet_model, \"models/prophet_wind.pkl\")"
   ]
  },
  {
   "cell_type": "code",
   "execution_count": 5,
   "id": "c092d5a3",
   "metadata": {},
   "outputs": [],
   "source": [
    "# Prophet for forecasting (downsample to daily mean to avoid MemoryError)\n",
    "wind_df = df[df['energy_source'] == 'wind'][['date', 'power_MW', 'wind_speed', 'precipitation', 'temperature_avg', 'wind_volatility']].copy()\n",
    "wind_df['date'] = pd.to_datetime(wind_df['date'])"
   ]
  },
  {
   "cell_type": "code",
   "execution_count": 6,
   "id": "671218a1",
   "metadata": {},
   "outputs": [
    {
     "name": "stderr",
     "output_type": "stream",
     "text": [
      "16:03:19 - cmdstanpy - INFO - Chain [1] start processing\n",
      "16:03:20 - cmdstanpy - INFO - Chain [1] done processing\n"
     ]
    },
    {
     "data": {
      "text/plain": [
       "<prophet.forecaster.Prophet at 0x12f647ae3e0>"
      ]
     },
     "execution_count": 6,
     "metadata": {},
     "output_type": "execute_result"
    }
   ],
   "source": [
    "# Resample to daily mean\n",
    "daily_df = wind_df.set_index('date').resample('D').mean().reset_index()\n",
    "prophet_df = daily_df.rename(columns={'date': 'ds', 'power_MW': 'y'})\n",
    "prophet_model = Prophet()\n",
    "for col in ['wind_speed', 'precipitation', 'temperature_avg', 'wind_volatility']:\n",
    "    prophet_model.add_regressor(col)\n",
    "prophet_model.fit(prophet_df)"
   ]
  },
  {
   "cell_type": "code",
   "execution_count": 7,
   "id": "eb71e0b2",
   "metadata": {},
   "outputs": [
    {
     "data": {
      "text/plain": [
       "['c:\\\\Users\\\\stuar\\\\Desktop\\\\Renewable Energy Maintenance/models/prophet_wind.pkl']"
      ]
     },
     "execution_count": 7,
     "metadata": {},
     "output_type": "execute_result"
    }
   ],
   "source": [
    "joblib.dump(prophet_model, f\"{main_dir}/models/prophet_wind.pkl\")"
   ]
  },
  {
   "cell_type": "code",
   "execution_count": 8,
   "id": "605bb1f7",
   "metadata": {},
   "outputs": [],
   "source": [
    "# Random Forest for maintenance\n",
    "features = ['wind_speed', 'precipitation', 'temperature_avg', 'wind_volatility', 'power_MW', 'output_efficiency']\n",
    "X = df[features].fillna(0)\n",
    "y = df['maintenance_status']\n"
   ]
  },
  {
   "cell_type": "code",
   "execution_count": 9,
   "id": "ca3e11d3",
   "metadata": {},
   "outputs": [
    {
     "name": "stdout",
     "output_type": "stream",
     "text": [
      "              precision    recall  f1-score   support\n",
      "\n",
      "           0       1.00      1.00      1.00  50579373\n",
      "           1       1.00      1.00      1.00  12624829\n",
      "\n",
      "    accuracy                           1.00  63204202\n",
      "   macro avg       1.00      1.00      1.00  63204202\n",
      "weighted avg       1.00      1.00      1.00  63204202\n",
      "\n"
     ]
    }
   ],
   "source": [
    "rf_model = RandomForestClassifier(n_estimators=100, random_state=42)\n",
    "rf_model.fit(X, y)\n",
    "print(classification_report(y, rf_model.predict(X)))\n"
   ]
  },
  {
   "cell_type": "code",
   "execution_count": 10,
   "id": "6a7733a7",
   "metadata": {},
   "outputs": [
    {
     "data": {
      "text/plain": [
       "['c:\\\\Users\\\\stuar\\\\Desktop\\\\Renewable Energy Maintenance/models/random_forest_maintenance.pkl']"
      ]
     },
     "execution_count": 10,
     "metadata": {},
     "output_type": "execute_result"
    }
   ],
   "source": [
    "joblib.dump(rf_model, f\"{main_dir}/models/random_forest_maintenance.pkl\")"
   ]
  },
  {
   "cell_type": "code",
   "execution_count": 11,
   "id": "5d492a44",
   "metadata": {},
   "outputs": [],
   "source": [
    "# Isolation Forest for anomaly detection\n",
    "iso_model = IsolationForest(contamination=0.1, random_state=42)\n",
    "df['anomaly'] = iso_model.fit_predict(X)\n",
    "df[['date', 'energy_source', 'power_MW', 'anomaly']].to_csv(f\"{main_dir}/data/processed/anomalies_final.csv\", index=False)\n",
    "# LSTM (simplified)\n",
    "# Add LSTM logic if needed (requires reshaping data for sequences)"
   ]
  }
 ],
 "metadata": {
  "kernelspec": {
   "display_name": "renv",
   "language": "python",
   "name": "python3"
  },
  "language_info": {
   "codemirror_mode": {
    "name": "ipython",
    "version": 3
   },
   "file_extension": ".py",
   "mimetype": "text/x-python",
   "name": "python",
   "nbconvert_exporter": "python",
   "pygments_lexer": "ipython3",
   "version": "3.10.0"
  }
 },
 "nbformat": 4,
 "nbformat_minor": 5
}
